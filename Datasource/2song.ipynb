{
 "cells": [
  {
   "cell_type": "code",
   "execution_count": 79,
   "id": "fb87caf7",
   "metadata": {},
   "outputs": [
    {
     "ename": "SyntaxError",
     "evalue": "invalid syntax (1962514890.py, line 1)",
     "output_type": "error",
     "traceback": [
      "\u001b[1;36m  Cell \u001b[1;32mIn[79], line 1\u001b[1;36m\u001b[0m\n\u001b[1;33m    pip install lyricsgenius\u001b[0m\n\u001b[1;37m        ^\u001b[0m\n\u001b[1;31mSyntaxError\u001b[0m\u001b[1;31m:\u001b[0m invalid syntax\n"
     ]
    }
   ],
   "source": [
    "pip install lyricsgenius\n",
    "#pip install aiohttp"
   ]
  },
  {
   "cell_type": "code",
   "execution_count": 10,
   "id": "9835e8e1",
   "metadata": {},
   "outputs": [],
   "source": [
    "import pandas as pd\n",
    "pd.options.mode.chained_assignment = None\n",
    "import lyricsgenius\n",
    "\n",
    "token = \"8kNY4zPZt1IPjaRMknJ0EGSNruu17zyK5OyAMoXA67bWmqx5okdnQDHsJAKq8CqB\"\n",
    "# genius = lyricsgenius.Genius(token,sleep_time=20)\n",
    "genius = lyricsgenius.Genius(token)"
   ]
  },
  {
   "cell_type": "code",
   "execution_count": 19,
   "id": "73966da6",
   "metadata": {
    "scrolled": false
   },
   "outputs": [
    {
     "ename": "HTTPError",
     "evalue": "[Errno 404] 404 Client Error: Not Found for url: https://api.genius.com/songs/6157021?text_format=plain\n404 Not Found",
     "output_type": "error",
     "traceback": [
      "\u001b[1;31m---------------------------------------------------------------------------\u001b[0m",
      "\u001b[1;31mHTTPError\u001b[0m                                 Traceback (most recent call last)",
      "File \u001b[1;32m~\\anaconda3\\lib\\site-packages\\lyricsgenius\\api\\base.py:80\u001b[0m, in \u001b[0;36mSender._make_request\u001b[1;34m(self, path, method, params_, public_api, web, **kwargs)\u001b[0m\n\u001b[0;32m     75\u001b[0m     response \u001b[38;5;241m=\u001b[39m \u001b[38;5;28mself\u001b[39m\u001b[38;5;241m.\u001b[39m_session\u001b[38;5;241m.\u001b[39mrequest(method, uri,\n\u001b[0;32m     76\u001b[0m                                      timeout\u001b[38;5;241m=\u001b[39m\u001b[38;5;28mself\u001b[39m\u001b[38;5;241m.\u001b[39mtimeout,\n\u001b[0;32m     77\u001b[0m                                      params\u001b[38;5;241m=\u001b[39mparams_,\n\u001b[0;32m     78\u001b[0m                                      headers\u001b[38;5;241m=\u001b[39mheader,\n\u001b[0;32m     79\u001b[0m                                      \u001b[38;5;241m*\u001b[39m\u001b[38;5;241m*\u001b[39mkwargs)\n\u001b[1;32m---> 80\u001b[0m     \u001b[43mresponse\u001b[49m\u001b[38;5;241;43m.\u001b[39;49m\u001b[43mraise_for_status\u001b[49m\u001b[43m(\u001b[49m\u001b[43m)\u001b[49m\n\u001b[0;32m     81\u001b[0m \u001b[38;5;28;01mexcept\u001b[39;00m Timeout \u001b[38;5;28;01mas\u001b[39;00m e:\n",
      "File \u001b[1;32m~\\anaconda3\\lib\\site-packages\\requests\\models.py:1021\u001b[0m, in \u001b[0;36mResponse.raise_for_status\u001b[1;34m(self)\u001b[0m\n\u001b[0;32m   1020\u001b[0m \u001b[38;5;28;01mif\u001b[39;00m http_error_msg:\n\u001b[1;32m-> 1021\u001b[0m     \u001b[38;5;28;01mraise\u001b[39;00m HTTPError(http_error_msg, response\u001b[38;5;241m=\u001b[39m\u001b[38;5;28mself\u001b[39m)\n",
      "\u001b[1;31mHTTPError\u001b[0m: 404 Client Error: Not Found for url: https://api.genius.com/songs/6157021?text_format=plain",
      "\nDuring handling of the above exception, another exception occurred:\n",
      "\u001b[1;31mHTTPError\u001b[0m                                 Traceback (most recent call last)",
      "Cell \u001b[1;32mIn[19], line 1\u001b[0m\n\u001b[1;32m----> 1\u001b[0m song \u001b[38;5;241m=\u001b[39m \u001b[43mgenius\u001b[49m\u001b[38;5;241;43m.\u001b[39;49m\u001b[43msong\u001b[49m\u001b[43m(\u001b[49m\u001b[43msong_id\u001b[49m\u001b[38;5;241;43m=\u001b[39;49m\u001b[38;5;241;43m6157021\u001b[39;49m\u001b[43m)\u001b[49m\n\u001b[0;32m      2\u001b[0m \u001b[38;5;28mprint\u001b[39m(song)\n",
      "File \u001b[1;32m~\\anaconda3\\lib\\site-packages\\lyricsgenius\\api\\api.py:437\u001b[0m, in \u001b[0;36mAPI.song\u001b[1;34m(self, song_id, text_format)\u001b[0m\n\u001b[0;32m    435\u001b[0m endpoint \u001b[38;5;241m=\u001b[39m \u001b[38;5;124m\"\u001b[39m\u001b[38;5;124msongs/\u001b[39m\u001b[38;5;132;01m{id}\u001b[39;00m\u001b[38;5;124m\"\u001b[39m\u001b[38;5;241m.\u001b[39mformat(\u001b[38;5;28mid\u001b[39m\u001b[38;5;241m=\u001b[39msong_id)\n\u001b[0;32m    436\u001b[0m params \u001b[38;5;241m=\u001b[39m {\u001b[38;5;124m'\u001b[39m\u001b[38;5;124mtext_format\u001b[39m\u001b[38;5;124m'\u001b[39m: text_format \u001b[38;5;129;01mor\u001b[39;00m \u001b[38;5;28mself\u001b[39m\u001b[38;5;241m.\u001b[39mresponse_format}\n\u001b[1;32m--> 437\u001b[0m \u001b[38;5;28;01mreturn\u001b[39;00m \u001b[38;5;28;43mself\u001b[39;49m\u001b[38;5;241;43m.\u001b[39;49m\u001b[43m_make_request\u001b[49m\u001b[43m(\u001b[49m\u001b[43mendpoint\u001b[49m\u001b[43m,\u001b[49m\u001b[43m \u001b[49m\u001b[43mparams_\u001b[49m\u001b[38;5;241;43m=\u001b[39;49m\u001b[43mparams\u001b[49m\u001b[43m)\u001b[49m\n",
      "File \u001b[1;32m~\\anaconda3\\lib\\site-packages\\lyricsgenius\\api\\base.py:88\u001b[0m, in \u001b[0;36mSender._make_request\u001b[1;34m(self, path, method, params_, public_api, web, **kwargs)\u001b[0m\n\u001b[0;32m     86\u001b[0m     error \u001b[38;5;241m=\u001b[39m get_description(e)\n\u001b[0;32m     87\u001b[0m     \u001b[38;5;28;01mif\u001b[39;00m response\u001b[38;5;241m.\u001b[39mstatus_code \u001b[38;5;241m<\u001b[39m \u001b[38;5;241m500\u001b[39m \u001b[38;5;129;01mor\u001b[39;00m tries \u001b[38;5;241m>\u001b[39m \u001b[38;5;28mself\u001b[39m\u001b[38;5;241m.\u001b[39mretries:\n\u001b[1;32m---> 88\u001b[0m         \u001b[38;5;28;01mraise\u001b[39;00m HTTPError(response\u001b[38;5;241m.\u001b[39mstatus_code, error)\n\u001b[0;32m     90\u001b[0m \u001b[38;5;66;03m# Enforce rate limiting\u001b[39;00m\n\u001b[0;32m     91\u001b[0m time\u001b[38;5;241m.\u001b[39msleep(\u001b[38;5;28mself\u001b[39m\u001b[38;5;241m.\u001b[39msleep_time)\n",
      "\u001b[1;31mHTTPError\u001b[0m: [Errno 404] 404 Client Error: Not Found for url: https://api.genius.com/songs/6157021?text_format=plain\n404 Not Found"
     ]
    }
   ],
   "source": [
    "song = genius.song(song_id=6157021)\n",
    "print(song)\n",
    "# print(song.get(\"song\").get(\"song_art_image_url\"))\n",
    "# print(artist.get(\"referents\")[0].get(\"annotatable\").get(\"image_url\"))"
   ]
  },
  {
   "cell_type": "code",
   "execution_count": 13,
   "id": "aaba6687",
   "metadata": {},
   "outputs": [
    {
     "data": {
      "text/html": [
       "<div>\n",
       "<style scoped>\n",
       "    .dataframe tbody tr th:only-of-type {\n",
       "        vertical-align: middle;\n",
       "    }\n",
       "\n",
       "    .dataframe tbody tr th {\n",
       "        vertical-align: top;\n",
       "    }\n",
       "\n",
       "    .dataframe thead th {\n",
       "        text-align: right;\n",
       "    }\n",
       "</style>\n",
       "<table border=\"1\" class=\"dataframe\">\n",
       "  <thead>\n",
       "    <tr style=\"text-align: right;\">\n",
       "      <th></th>\n",
       "      <th>title</th>\n",
       "      <th>tag</th>\n",
       "      <th>artist</th>\n",
       "      <th>year</th>\n",
       "      <th>features</th>\n",
       "      <th>lyrics</th>\n",
       "      <th>id</th>\n",
       "      <th>language</th>\n",
       "    </tr>\n",
       "  </thead>\n",
       "  <tbody>\n",
       "    <tr>\n",
       "      <th>0</th>\n",
       "      <td>Deprikommerz</td>\n",
       "      <td>rap</td>\n",
       "      <td>Lemur</td>\n",
       "      <td>2022</td>\n",
       "      <td>Nazznyxz</td>\n",
       "      <td>Du bist ein Fluss, der ins Meer fließt Wo es ...</td>\n",
       "      <td>7657951</td>\n",
       "      <td>de</td>\n",
       "    </tr>\n",
       "    <tr>\n",
       "      <th>1</th>\n",
       "      <td>Pyrite</td>\n",
       "      <td>rap</td>\n",
       "      <td>Ethos The Rapper</td>\n",
       "      <td>2022</td>\n",
       "      <td>NaN</td>\n",
       "      <td>Sit down, fuck around, and find a sound, foun...</td>\n",
       "      <td>7665479</td>\n",
       "      <td>en</td>\n",
       "    </tr>\n",
       "    <tr>\n",
       "      <th>2</th>\n",
       "      <td>BeYOUtiful</td>\n",
       "      <td>pop</td>\n",
       "      <td>Jai Musiq</td>\n",
       "      <td>2022</td>\n",
       "      <td>NaN</td>\n",
       "      <td>Yeah Yeah King Chris, what's popping   When I...</td>\n",
       "      <td>7641124</td>\n",
       "      <td>en</td>\n",
       "    </tr>\n",
       "    <tr>\n",
       "      <th>3</th>\n",
       "      <td>3AM</td>\n",
       "      <td>rb</td>\n",
       "      <td>XXXHXAILO</td>\n",
       "      <td>2022</td>\n",
       "      <td>NaN</td>\n",
       "      <td>My life is turning Just want to die I cry for...</td>\n",
       "      <td>4596944</td>\n",
       "      <td>en</td>\n",
       "    </tr>\n",
       "    <tr>\n",
       "      <th>4</th>\n",
       "      <td>Remembering Me</td>\n",
       "      <td>rock</td>\n",
       "      <td>Cate Le Bon</td>\n",
       "      <td>2022</td>\n",
       "      <td>NaN</td>\n",
       "      <td>In the remake of my life I moved in straight ...</td>\n",
       "      <td>7281896</td>\n",
       "      <td>en</td>\n",
       "    </tr>\n",
       "  </tbody>\n",
       "</table>\n",
       "</div>"
      ],
      "text/plain": [
       "            title   tag            artist  year  features  \\\n",
       "0    Deprikommerz   rap             Lemur  2022  Nazznyxz   \n",
       "1          Pyrite   rap  Ethos The Rapper  2022       NaN   \n",
       "2      BeYOUtiful   pop         Jai Musiq  2022       NaN   \n",
       "3             3AM    rb         XXXHXAILO  2022       NaN   \n",
       "4  Remembering Me  rock       Cate Le Bon  2022       NaN   \n",
       "\n",
       "                                              lyrics       id language  \n",
       "0   Du bist ein Fluss, der ins Meer fließt Wo es ...  7657951       de  \n",
       "1   Sit down, fuck around, and find a sound, foun...  7665479       en  \n",
       "2   Yeah Yeah King Chris, what's popping   When I...  7641124       en  \n",
       "3   My life is turning Just want to die I cry for...  4596944       en  \n",
       "4   In the remake of my life I moved in straight ...  7281896       en  "
      ]
     },
     "execution_count": 13,
     "metadata": {},
     "output_type": "execute_result"
    }
   ],
   "source": [
    "mssheet = pd.read_csv(\"out.csv\")\n",
    "mssheet.head()"
   ]
  },
  {
   "cell_type": "code",
   "execution_count": 14,
   "id": "95738cc8",
   "metadata": {
    "scrolled": true
   },
   "outputs": [
    {
     "data": {
      "text/html": [
       "<div>\n",
       "<style scoped>\n",
       "    .dataframe tbody tr th:only-of-type {\n",
       "        vertical-align: middle;\n",
       "    }\n",
       "\n",
       "    .dataframe tbody tr th {\n",
       "        vertical-align: top;\n",
       "    }\n",
       "\n",
       "    .dataframe thead th {\n",
       "        text-align: right;\n",
       "    }\n",
       "</style>\n",
       "<table border=\"1\" class=\"dataframe\">\n",
       "  <thead>\n",
       "    <tr style=\"text-align: right;\">\n",
       "      <th></th>\n",
       "      <th>title</th>\n",
       "      <th>tag</th>\n",
       "      <th>artist</th>\n",
       "      <th>year</th>\n",
       "      <th>features</th>\n",
       "      <th>lyrics</th>\n",
       "      <th>id</th>\n",
       "      <th>language</th>\n",
       "      <th>image_url</th>\n",
       "    </tr>\n",
       "  </thead>\n",
       "  <tbody>\n",
       "    <tr>\n",
       "      <th>0</th>\n",
       "      <td>Deprikommerz</td>\n",
       "      <td>rap</td>\n",
       "      <td>Lemur</td>\n",
       "      <td>2022</td>\n",
       "      <td>Nazznyxz</td>\n",
       "      <td>Du bist ein Fluss, der ins Meer fließt Wo es ...</td>\n",
       "      <td>7657951</td>\n",
       "      <td>de</td>\n",
       "      <td></td>\n",
       "    </tr>\n",
       "    <tr>\n",
       "      <th>1</th>\n",
       "      <td>Pyrite</td>\n",
       "      <td>rap</td>\n",
       "      <td>Ethos The Rapper</td>\n",
       "      <td>2022</td>\n",
       "      <td>NaN</td>\n",
       "      <td>Sit down, fuck around, and find a sound, foun...</td>\n",
       "      <td>7665479</td>\n",
       "      <td>en</td>\n",
       "      <td></td>\n",
       "    </tr>\n",
       "    <tr>\n",
       "      <th>2</th>\n",
       "      <td>BeYOUtiful</td>\n",
       "      <td>pop</td>\n",
       "      <td>Jai Musiq</td>\n",
       "      <td>2022</td>\n",
       "      <td>NaN</td>\n",
       "      <td>Yeah Yeah King Chris, what's popping   When I...</td>\n",
       "      <td>7641124</td>\n",
       "      <td>en</td>\n",
       "      <td></td>\n",
       "    </tr>\n",
       "    <tr>\n",
       "      <th>3</th>\n",
       "      <td>3AM</td>\n",
       "      <td>rb</td>\n",
       "      <td>XXXHXAILO</td>\n",
       "      <td>2022</td>\n",
       "      <td>NaN</td>\n",
       "      <td>My life is turning Just want to die I cry for...</td>\n",
       "      <td>4596944</td>\n",
       "      <td>en</td>\n",
       "      <td></td>\n",
       "    </tr>\n",
       "    <tr>\n",
       "      <th>4</th>\n",
       "      <td>Remembering Me</td>\n",
       "      <td>rock</td>\n",
       "      <td>Cate Le Bon</td>\n",
       "      <td>2022</td>\n",
       "      <td>NaN</td>\n",
       "      <td>In the remake of my life I moved in straight ...</td>\n",
       "      <td>7281896</td>\n",
       "      <td>en</td>\n",
       "      <td></td>\n",
       "    </tr>\n",
       "  </tbody>\n",
       "</table>\n",
       "</div>"
      ],
      "text/plain": [
       "            title   tag            artist  year  features  \\\n",
       "0    Deprikommerz   rap             Lemur  2022  Nazznyxz   \n",
       "1          Pyrite   rap  Ethos The Rapper  2022       NaN   \n",
       "2      BeYOUtiful   pop         Jai Musiq  2022       NaN   \n",
       "3             3AM    rb         XXXHXAILO  2022       NaN   \n",
       "4  Remembering Me  rock       Cate Le Bon  2022       NaN   \n",
       "\n",
       "                                              lyrics       id language  \\\n",
       "0   Du bist ein Fluss, der ins Meer fließt Wo es ...  7657951       de   \n",
       "1   Sit down, fuck around, and find a sound, foun...  7665479       en   \n",
       "2   Yeah Yeah King Chris, what's popping   When I...  7641124       en   \n",
       "3   My life is turning Just want to die I cry for...  4596944       en   \n",
       "4   In the remake of my life I moved in straight ...  7281896       en   \n",
       "\n",
       "  image_url  \n",
       "0            \n",
       "1            \n",
       "2            \n",
       "3            \n",
       "4            "
      ]
     },
     "execution_count": 14,
     "metadata": {},
     "output_type": "execute_result"
    }
   ],
   "source": [
    "mssheet['image_url'] = '' \n",
    "mssheet.head()"
   ]
  },
  {
   "cell_type": "code",
   "execution_count": null,
   "id": "0bdbaf8a",
   "metadata": {},
   "outputs": [],
   "source": [
    "for i in range(len(mssheet['id'])):\n",
    "    try:\n",
    "        song = genius.song(song_id=mssheet['id'][i])\n",
    "        img_url = song.get(\"song\").get(\"song_art_image_url\")\n",
    "        mssheet['image_url'][i] = img_url[0]\n",
    "    except:\n",
    "        mssheet['image_url'][i] =  \"https://assets.genius.com/images/default_cover_image.png?1697817458\"\n",
    "    finally:\n",
    "        print( str(i) +\":Song ID: \"+str(mssheet['id'][i]), img_url)"
   ]
  },
  {
   "cell_type": "code",
   "execution_count": null,
   "id": "7628c52f",
   "metadata": {},
   "outputs": [],
   "source": [
    "mssheet.head()"
   ]
  },
  {
   "cell_type": "code",
   "execution_count": 26,
   "id": "a4335c6b",
   "metadata": {},
   "outputs": [],
   "source": [
    "mssheet.to_csv('out2.csv', index=False)"
   ]
  },
  {
   "cell_type": "code",
   "execution_count": null,
   "id": "13e6f013",
   "metadata": {},
   "outputs": [],
   "source": []
  }
 ],
 "metadata": {
  "kernelspec": {
   "display_name": "Python 3 (ipykernel)",
   "language": "python",
   "name": "python3"
  },
  "language_info": {
   "codemirror_mode": {
    "name": "ipython",
    "version": 3
   },
   "file_extension": ".py",
   "mimetype": "text/x-python",
   "name": "python",
   "nbconvert_exporter": "python",
   "pygments_lexer": "ipython3",
   "version": "3.10.9"
  }
 },
 "nbformat": 4,
 "nbformat_minor": 5
}
